{
 "cells": [
  {
   "cell_type": "markdown",
   "metadata": {},
   "source": [
    "# FUNCIONES DE PYTHON"
   ]
  },
  {
   "cell_type": "code",
   "execution_count": 19,
   "metadata": {},
   "outputs": [
    {
     "data": {
      "text/plain": [
       "8"
      ]
     },
     "execution_count": 19,
     "metadata": {},
     "output_type": "execute_result"
    }
   ],
   "source": [
    "# funcion de x f(x)   f(x=3) = 3 + 5 --> 8\n",
    "# para definir una funcion usamos la expresion def nombre_funcion()\n",
    "\n",
    "def f(x):\n",
    "    resultado = x + 5\n",
    "    return resultado\n",
    "\n",
    "f(x=3) "
   ]
  },
  {
   "cell_type": "markdown",
   "metadata": {},
   "source": [
    "# Pseudo-codigo"
   ]
  },
  {
   "cell_type": "code",
   "execution_count": 1,
   "metadata": {},
   "outputs": [
    {
     "data": {
      "text/plain": [
       "(10, 2.5, 1.118033988749895, 1, 4)"
      ]
     },
     "execution_count": 1,
     "metadata": {},
     "output_type": "execute_result"
    }
   ],
   "source": [
    "# quiero obtener el valor de la suma de los numeros de una lista\n",
    "# quiero de esa lista saber cual es el val min/max\n",
    "# quiero obtener la media y la desviacion estandar\n",
    "\n",
    "\n",
    "# calcular_valores(lista_numeros)\n",
    "#   suma             = calcular_suma(lista_numeros)\n",
    "#   media, dev_std   = calcular_valores_centrales(lista_numeros)\n",
    "#   min_val, max_val = calcular_extremos(lista_numeros)\n",
    "#   return sum, media, dev_std, min_val, max_val\n",
    "\n",
    "import numpy as np\n",
    "\n",
    "def f(lista):\n",
    "    suma_lista = sum(lista)\n",
    "    media = np.mean(lista)\n",
    "    desviacion = np.std(lista)\n",
    "    minimo = min(lista)\n",
    "    maximo = max(lista)\n",
    "\n",
    "    return suma_lista, media, desviacion, minimo, maximo\n",
    "\n",
    "\n",
    "f(lista= [1,2,3,4])\n"
   ]
  },
  {
   "cell_type": "code",
   "execution_count": 21,
   "metadata": {},
   "outputs": [
    {
     "data": {
      "text/plain": [
       "14"
      ]
     },
     "execution_count": 21,
     "metadata": {},
     "output_type": "execute_result"
    }
   ],
   "source": [
    "#otra forma de sumar valores de una lista con un contado y for\n",
    "def seg_forma(lista_2):\n",
    "    valor = 0\n",
    "    for i in lista_2:\n",
    "        valor += i\n",
    "    return valor\n",
    "\n",
    "seg_forma(lista_2 = [2,3,4,5])"
   ]
  }
 ],
 "metadata": {
  "kernelspec": {
   "display_name": "Python 3.10.0 64-bit",
   "language": "python",
   "name": "python3"
  },
  "language_info": {
   "codemirror_mode": {
    "name": "ipython",
    "version": 3
   },
   "file_extension": ".py",
   "mimetype": "text/x-python",
   "name": "python",
   "nbconvert_exporter": "python",
   "pygments_lexer": "ipython3",
   "version": "3.10.0"
  },
  "orig_nbformat": 4,
  "vscode": {
   "interpreter": {
    "hash": "09cc8b7a95ccbf132467e550e87cbc92ad72620a005b419e71ec2c5180e48518"
   }
  }
 },
 "nbformat": 4,
 "nbformat_minor": 2
}
